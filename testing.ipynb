{
  "nbformat": 4,
  "nbformat_minor": 0,
  "metadata": {
    "colab": {
      "provenance": [],
      "authorship_tag": "ABX9TyNMKwY00H2vcs7OdbdnFb4g"
    },
    "kernelspec": {
      "name": "python3",
      "display_name": "Python 3"
    },
    "language_info": {
      "name": "python"
    }
  },
  "cells": [
    {
      "cell_type": "markdown",
      "source": [
        "fire up the night\n"
      ],
      "metadata": {
        "id": "rXtI-OAURicU"
      }
    },
    {
      "cell_type": "markdown",
      "source": [
        "likea nnn,,"
      ],
      "metadata": {
        "id": "NKoFnaWCRxex"
      }
    },
    {
      "cell_type": "code",
      "source": [],
      "metadata": {
        "id": "TeqcW8slRdST"
      },
      "execution_count": null,
      "outputs": []
    },
    {
      "cell_type": "markdown",
      "source": [
        "hjhjabsbckbdc\n"
      ],
      "metadata": {
        "id": "tykYDyjwSI2M"
      }
    },
    {
      "cell_type": "markdown",
      "source": [
        "kkk\n"
      ],
      "metadata": {
        "id": "C8e2m6kDSr8S"
      }
    },
    {
      "cell_type": "markdown",
      "source": [
        "jjj\n"
      ],
      "metadata": {
        "id": "he_6KrhjSs7U"
      }
    },
    {
      "cell_type": "markdown",
      "source": [
        "dnklsndk\n"
      ],
      "metadata": {
        "id": "Vg4T3DLpStu9"
      }
    },
    {
      "cell_type": "markdown",
      "source": [
        "ckjcbk\n",
        "\n"
      ],
      "metadata": {
        "id": "oYAURgKuS3fz"
      }
    },
    {
      "cell_type": "markdown",
      "source": [
        "hqdedbewd\n"
      ],
      "metadata": {
        "id": "M50gpISCS4h-"
      }
    },
    {
      "cell_type": "markdown",
      "source": [
        "nnn\n"
      ],
      "metadata": {
        "id": "suSdiv8pTDOS"
      }
    }
  ]
}