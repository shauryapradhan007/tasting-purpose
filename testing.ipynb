{
  "nbformat": 4,
  "nbformat_minor": 0,
  "metadata": {
    "colab": {
      "provenance": [],
      "authorship_tag": "ABX9TyN94I+0vb3ejBH6qHp0vB1T",
      "include_colab_link": true
    },
    "kernelspec": {
      "name": "python3",
      "display_name": "Python 3"
    },
    "language_info": {
      "name": "python"
    }
  },
  "cells": [
    {
      "cell_type": "markdown",
      "metadata": {
        "id": "view-in-github",
        "colab_type": "text"
      },
      "source": [
        "<a href=\"https://colab.research.google.com/github/shauryapradhan007/tasting-purpose/blob/main/testing.ipynb\" target=\"_parent\"><img src=\"https://colab.research.google.com/assets/colab-badge.svg\" alt=\"Open In Colab\"/></a>"
      ]
    },
    {
      "cell_type": "markdown",
      "source": [
        "fire up the night\n"
      ],
      "metadata": {
        "id": "rXtI-OAURicU"
      }
    },
    {
      "cell_type": "markdown",
      "source": [
        "likea nnn,,"
      ],
      "metadata": {
        "id": "NKoFnaWCRxex"
      }
    },
    {
      "cell_type": "code",
      "source": [],
      "metadata": {
        "id": "TeqcW8slRdST"
      },
      "execution_count": null,
      "outputs": []
    },
    {
      "cell_type": "markdown",
      "source": [
        "hjhjabsbckbdc\n"
      ],
      "metadata": {
        "id": "tykYDyjwSI2M"
      }
    }
  ]
}